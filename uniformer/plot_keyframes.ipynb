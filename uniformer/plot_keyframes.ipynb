{
  "cells": [
    {
      "cell_type": "code",
      "execution_count": 19,
      "metadata": {
        "colab": {
          "base_uri": "https://localhost:8080/"
        },
        "id": "24wEoPQ6-y64",
        "outputId": "3af90a76-44ef-4d94-9e56-39fb8cf8a6da"
      },
      "outputs": [
        {
          "output_type": "stream",
          "name": "stdout",
          "text": [
            "Drive already mounted at /content/drive; to attempt to forcibly remount, call drive.mount(\"/content/drive\", force_remount=True).\n"
          ]
        }
      ],
      "source": [
        "from google.colab import drive\n",
        "drive.mount('/content/drive')"
      ]
    },
    {
      "cell_type": "code",
      "source": [
        "import numpy as np"
      ],
      "metadata": {
        "id": "dqvYqQZMG6g9"
      },
      "execution_count": 20,
      "outputs": []
    },
    {
      "cell_type": "code",
      "execution_count": 21,
      "metadata": {
        "colab": {
          "base_uri": "https://localhost:8080/"
        },
        "id": "bYbRvPWc_XfA",
        "outputId": "5d1f5f46-6042-4f41-dd59-a27b50f51cd0"
      },
      "outputs": [
        {
          "output_type": "stream",
          "name": "stdout",
          "text": [
            "fho_hands_test_unannotated.json  fho_hands_val.json  manifest.ver\n",
            "fho_hands_train.json\t\t manifest.csv\n"
          ]
        }
      ],
      "source": [
        "!ls /content/drive/MyDrive/ego4d_data_annot/annotations"
      ]
    },
    {
      "cell_type": "code",
      "execution_count": 22,
      "metadata": {
        "colab": {
          "base_uri": "https://localhost:8080/"
        },
        "id": "dvfsi7Le_qBr",
        "outputId": "59e7b29a-0b1d-4c2b-9416-ace10b059837"
      },
      "outputs": [
        {
          "output_type": "stream",
          "name": "stdout",
          "text": [
            "Type: <class 'dict'>\n"
          ]
        }
      ],
      "source": [
        "import json\n",
        " \n",
        "# Opening JSON file\n",
        "with open('/content/drive/MyDrive/ego4d_data_annot/annotations/fho_hands_val.json') as json_file:\n",
        "    gt_data = json.load(json_file)\n",
        " \n",
        "# Print the type of data variable\n",
        "print(\"Type:\", type(gt_data))"
      ]
    },
    {
      "cell_type": "code",
      "source": [
        "import json\n",
        " \n",
        "# Opening JSON file\n",
        "with open('/content/drive/MyDrive/submission_validation_num_8.json') as json_file:\n",
        "    pred_data = json.load(json_file)\n",
        " \n",
        "# Print the type of data variable\n",
        "print(\"Type:\", type(pred_data))"
      ],
      "metadata": {
        "colab": {
          "base_uri": "https://localhost:8080/"
        },
        "id": "lkckeDTQ0UUM",
        "outputId": "1f0b77af-86f0-4d9a-8e8d-f47a81f3c18e"
      },
      "execution_count": 23,
      "outputs": [
        {
          "output_type": "stream",
          "name": "stdout",
          "text": [
            "Type: <class 'dict'>\n"
          ]
        }
      ]
    },
    {
      "cell_type": "code",
      "source": [
        "# clip_uid = '0bc8996b-85d5-4800-b840-f7ef647a21ee'\n",
        "# clip_uid = '1b2f1101-b3d9-4be5-bc92-393c983be9b4'\n",
        "clip_uid = '3def2afc-55d2-458e-b792-d15cd291645b'"
      ],
      "metadata": {
        "id": "nb3f-lSd_pCX"
      },
      "execution_count": 24,
      "outputs": []
    },
    {
      "cell_type": "code",
      "source": [
        "gt_results = {}\n",
        "gt_labels = {}\n",
        "gt_label_masks = {}\n",
        "frame_clips = {}\n",
        "for clip in gt_data['clips']:\n",
        "  if clip['clip_uid'] == clip_uid:\n",
        "  # if True:\n",
        "    clip_id = clip['clip_id']\n",
        "    for annot in clip['frames']:\n",
        "      pre45_frame = annot['pre_45']['frame']\n",
        "      clip_name = str(clip_id) + '_' + str(pre45_frame - 1)      \n",
        "\n",
        "      label = [0.0] * 20\n",
        "      label_mask = [0.0] * 20\n",
        "      frame_nums = [None] * 5\n",
        "      for frame_type, frame_annot in annot.items():\n",
        "          if frame_type in [\"action_start_sec\", \"action_end_sec\", \"action_start_frame\",\n",
        "                            \"action_end_frame\", \"action_clip_start_sec\", \"action_clip_end_sec\",\n",
        "                            \"action_clip_start_frame\", \"action_clip_end_frame\"]:\n",
        "              continue\n",
        "          if len(frame_annot) == 2:\n",
        "              continue\n",
        "          frame_gt = frame_annot['boxes']\n",
        "          if frame_type == 'pre_45':\n",
        "              frame_nums[0] = annot['pre_45']['clip_frame']\n",
        "              for single_hand in frame_gt:\n",
        "                  if 'left_hand' in single_hand:\n",
        "                      label_mask[0] = 1.0\n",
        "                      label_mask[1] = 1.0\n",
        "                      label[0] = single_hand['left_hand'][0]\n",
        "                      label[1] = single_hand['left_hand'][1]\n",
        "                  if 'right_hand' in single_hand:\n",
        "                      label_mask[2] = 1.0\n",
        "                      label_mask[3] = 1.0\n",
        "                      label[2] = single_hand['right_hand'][0]\n",
        "                      label[3] = single_hand['right_hand'][1]\n",
        "          if frame_type == 'pre_30':\n",
        "              frame_nums[1] = annot['pre_30']['clip_frame']\n",
        "              for single_hand in frame_gt:\n",
        "                  if 'left_hand' in single_hand:\n",
        "                      label_mask[4] = 1.0\n",
        "                      label_mask[5] = 1.0\n",
        "                      label[4] = single_hand['left_hand'][0]\n",
        "                      label[5] = single_hand['left_hand'][1]\n",
        "                  if 'right_hand' in single_hand:\n",
        "                      label_mask[6] = 1.0\n",
        "                      label_mask[7] = 1.0\n",
        "                      label[6] = single_hand['right_hand'][0]\n",
        "                      label[7] = single_hand['right_hand'][1]\n",
        "          if frame_type == 'pre_15':\n",
        "              frame_nums[2] = annot['pre_15']['clip_frame']\n",
        "              for single_hand in frame_gt:\n",
        "                  if 'left_hand' in single_hand:\n",
        "                      label_mask[8] = 1.0\n",
        "                      label_mask[9] = 1.0\n",
        "                      label[8] = single_hand['left_hand'][0]\n",
        "                      label[9] = single_hand['left_hand'][1]\n",
        "                  if 'right_hand' in single_hand:\n",
        "                      label_mask[10] = 1.0\n",
        "                      label_mask[11] = 1.0\n",
        "                      label[10] = single_hand['right_hand'][0]\n",
        "                      label[11] = single_hand['right_hand'][1]\n",
        "          if frame_type == 'pre_frame':\n",
        "              frame_nums[3] = annot['pre_frame']['clip_frame']\n",
        "              for single_hand in frame_gt:\n",
        "                  if 'left_hand' in single_hand:\n",
        "                      label_mask[12] = 1.0\n",
        "                      label_mask[13] = 1.0\n",
        "                      label[12] = single_hand['left_hand'][0]\n",
        "                      label[13] = single_hand['left_hand'][1]\n",
        "                  if 'right_hand' in single_hand:\n",
        "                      label_mask[14] = 1.0\n",
        "                      label_mask[15] = 1.0\n",
        "                      label[14] = single_hand['right_hand'][0]\n",
        "                      label[15] = single_hand['right_hand'][1]\n",
        "          if frame_type == 'contact_frame':\n",
        "              frame_nums[4] = annot['contact_frame']['clip_frame']\n",
        "              for single_hand in frame_gt:\n",
        "                  if 'left_hand' in single_hand:\n",
        "                      label_mask[16] = 1.0\n",
        "                      label_mask[17] = 1.0\n",
        "                      label[16] = single_hand['left_hand'][0]\n",
        "                      label[17] = single_hand['left_hand'][1]\n",
        "                  if 'right_hand' in single_hand:\n",
        "                      label_mask[18] = 1.0\n",
        "                      label_mask[19] = 1.0\n",
        "                      label[18] = single_hand['right_hand'][0]\n",
        "                      label[19] = single_hand['right_hand'][1]\n",
        "      annot = list(np.multiply(label, label_mask))\n",
        "      gt_results[clip_name] = annot\n",
        "      gt_labels[clip_name] = label\n",
        "      gt_label_masks[clip_name] = label_mask\n",
        "      frame_clips[clip_name] = frame_nums\n"
      ],
      "metadata": {
        "id": "vmaRXZeb01NF"
      },
      "execution_count": 25,
      "outputs": []
    },
    {
      "cell_type": "code",
      "source": [
        "# video_id = '3004_9349'\n",
        "# clip_id = '3004_16165'\n",
        "\n",
        "# clip_id = '3353_5186'\n",
        "\n",
        "clip_id = '611_24025'"
      ],
      "metadata": {
        "id": "6sQcWTWrcg9d"
      },
      "execution_count": 17,
      "outputs": []
    },
    {
      "cell_type": "code",
      "source": [
        "import cv2\n",
        "import os\n",
        "cap = cv2.VideoCapture(f'/content/drive/MyDrive/{clip_uid}.mp4')\n",
        "\n",
        "mask = gt_label_masks[clip_id]\n",
        "pred = pred_data[clip_id]\n",
        "label = gt_labels[clip_id]\n",
        "\n",
        "pre45_frame = frame_clips[clip_id]\n",
        "for key_frame in range(5):\n",
        "    frame = frame_clips[clip_id][key_frame]\n",
        "    if frame == None:\n",
        "      continue\n",
        "    cap.set(cv2.CAP_PROP_POS_FRAMES, frame-1)\n",
        "    res, img = cap.read()\n",
        "    new_height = 256\n",
        "    new_width = int(img.shape[1] * (new_height / img.shape[0]))\n",
        "    dim = (new_width, new_height)\n",
        "    img = cv2.resize(img, dim, interpolation = cv2.INTER_AREA)\n",
        "\n",
        "    for single_hand in range(2):\n",
        "        if mask[key_frame * 4 + single_hand * 2]:\n",
        "            cd_pred = (\n",
        "                int(pred[key_frame * 4 + single_hand * 2]),\n",
        "                int(pred[key_frame * 4 + single_hand * 2 + 1]),\n",
        "            )\n",
        "            cd_label = (\n",
        "                int(label[key_frame * 4 + single_hand * 2]),\n",
        "                int(label[key_frame * 4 + single_hand * 2 + 1]),\n",
        "            )\n",
        "            cv2.circle(img, cd_pred, 5, (255, 0, 0), thickness=-1)\n",
        "            cv2.circle(img, cd_label, 5, (0, 255, 0), thickness=-1)\n",
        "    output_path = str(frame).zfill(6)\n",
        "    folder_name = f'./{clip_id}'\n",
        "    if not os.path.exists(folder_name):\n",
        "      os.makedirs(folder_name)\n",
        "    cv2.imwrite(f'{folder_name}/{output_path}.png', img)\n"
      ],
      "metadata": {
        "id": "ZqmJarB4b8n_"
      },
      "execution_count": 18,
      "outputs": []
    },
    {
      "cell_type": "code",
      "source": [],
      "metadata": {
        "id": "d6L6ftEw_0cp"
      },
      "execution_count": 40,
      "outputs": []
    },
    {
      "cell_type": "code",
      "source": [],
      "metadata": {
        "id": "42HtxNv_7Sjx"
      },
      "execution_count": null,
      "outputs": []
    }
  ],
  "metadata": {
    "colab": {
      "provenance": []
    },
    "kernelspec": {
      "display_name": "Python 3",
      "name": "python3"
    },
    "language_info": {
      "name": "python"
    }
  },
  "nbformat": 4,
  "nbformat_minor": 0
}